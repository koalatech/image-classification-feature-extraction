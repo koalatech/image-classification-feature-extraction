{
 "cells": [
  {
   "cell_type": "code",
   "execution_count": null,
   "metadata": {},
   "outputs": [],
   "source": [
    "import os\n",
    "import pickle\n",
    "import numpy as np\n",
    "\n",
    "from img2vec_pytorch import Img2Vec\n",
    "from PIL import Image\n",
    "from sklearn.ensemble import RandomForestClassifier\n",
    "from sklearn.svm import SVC\n",
    "from sklearn.model_selection import GridSearchCV\n",
    "\n",
    "from sklearn.metrics import accuracy_score\n"
   ]
  },
  {
   "cell_type": "code",
   "execution_count": null,
   "metadata": {},
   "outputs": [],
   "source": [
    "# prepare data\n",
    "\n",
    "img2vec = Img2Vec()\n",
    "\n",
    "data_dir = './dataset2'\n",
    "train_dir = os.path.join(data_dir, 'train')\n",
    "val_dir = os.path.join(data_dir, 'val')\n",
    "\n",
    "\n",
    "\n",
    "data = {}\n",
    "for j, dir_ in enumerate([train_dir, val_dir]):\n",
    "    features = []\n",
    "    labels = []\n",
    "    for category in os.listdir(dir_):\n",
    "        for img_path in os.listdir(os.path.join(dir_, category)):\n",
    "            img_path_ = os.path.join(dir_, category, img_path)\n",
    "            \n",
    "            img = Image.open(img_path_).convert('RGB')\n",
    "\n",
    "            img_features = img2vec.get_vec(img)\n",
    "\n",
    "            features.append(img_features)\n",
    "            labels.append(category)\n",
    "\n",
    "    data[['training_data', 'validation_data'][j]] = features\n",
    "    data[['training_labels', 'validation_labels'][j]] = labels\n",
    "    \n",
    "    "
   ]
  },
  {
   "cell_type": "code",
   "execution_count": null,
   "metadata": {},
   "outputs": [],
   "source": [
    "print(data.keys())"
   ]
  },
  {
   "cell_type": "code",
   "execution_count": null,
   "metadata": {},
   "outputs": [],
   "source": [
    "\n",
    "# Define the parameter grid\n",
    "param_grid = {\n",
    "    'C': [0.1, 1, 10, 100],\n",
    "    'gamma': [1, 0.1, 0.01, 0.001],\n",
    "     'kernel': ['rbf', 'poly'],\n",
    "     \n",
    "}\n",
    "\n",
    "# Create a GridSearchCV object\n",
    "model = GridSearchCV(SVC(probability=True), param_grid, refit=True, verbose=2,scoring='accuracy' )\n",
    "\n",
    "# Choose a machine learning model\n",
    "# model = RandomForestClassifier(random_state=0)\n",
    "\n",
    "model.fit(data['training_data'], data['training_labels'])\n",
    "\n",
    "# test performance (if using RandomForestClassifier)\n",
    "# y_pred = model.predict(data['validation_data'])\n",
    "# score = accuracy_score(y_pred, data['validation_labels'])\n",
    "# print(score)\n",
    "\n",
    "print(model.best_params_)\n",
    "print(model.best_score_)\n",
    "\n"
   ]
  },
  {
   "cell_type": "code",
   "execution_count": null,
   "metadata": {},
   "outputs": [],
   "source": [
    "# save the model\n",
    "with open('./model.p', 'wb') as f:\n",
    "    pickle.dump(model, f)\n",
    "    f.close()"
   ]
  },
  {
   "cell_type": "code",
   "execution_count": 67,
   "metadata": {},
   "outputs": [
    {
     "name": "stderr",
     "output_type": "stream",
     "text": [
      "C:\\Users\\koala\\AppData\\Local\\Packages\\PythonSoftwareFoundation.Python.3.12_qbz5n2kfra8p0\\LocalCache\\local-packages\\Python312\\site-packages\\torchvision\\models\\_utils.py:208: UserWarning: The parameter 'pretrained' is deprecated since 0.13 and may be removed in the future, please use 'weights' instead.\n",
      "  warnings.warn(\n",
      "C:\\Users\\koala\\AppData\\Local\\Packages\\PythonSoftwareFoundation.Python.3.12_qbz5n2kfra8p0\\LocalCache\\local-packages\\Python312\\site-packages\\torchvision\\models\\_utils.py:223: UserWarning: Arguments other than a weight enum or `None` for 'weights' are deprecated since 0.13 and may be removed in the future. The current behavior is equivalent to passing `weights=ResNet18_Weights.IMAGENET1K_V1`. You can also use `weights=ResNet18_Weights.DEFAULT` to get the most up-to-date weights.\n",
      "  warnings.warn(msg)\n"
     ]
    },
    {
     "name": "stdout",
     "output_type": "stream",
     "text": [
      "Class cloudy: 2.30%\n",
      "Class rain: 0.12%\n",
      "Class shine: 1.99%\n",
      "Class sunrise: 95.59%\n",
      "['sunrise']\n"
     ]
    }
   ],
   "source": [
    "import pickle\n",
    "\n",
    "from img2vec_pytorch import Img2Vec\n",
    "from PIL import Image\n",
    "\n",
    "\n",
    "\n",
    "with open('model.p', 'rb') as f:\n",
    "    model = pickle.load(f)\n",
    "\n",
    "img2vec = Img2Vec()\n",
    "class_labels = ['cloudy', 'rain', 'shine', 'sunrise']\n",
    "image_path = './example/test_images/shine.jpg'\n",
    "\n",
    "img = Image.open(image_path)\n",
    "\n",
    "features = img2vec.get_vec(img)\n",
    "features_2d = features.reshape(1, -1)\n",
    "\n",
    "# Get prediction probabilities\n",
    "prediction_probabilities = model.predict_proba(features_2d)[0]\n",
    "for ind, prob in enumerate(prediction_probabilities):\n",
    "    print(f'Class {class_labels[ind]}: {prob*100:.2f}%')\n",
    "    \n",
    "pred = model.predict([features])\n",
    "\n",
    "print(pred)"
   ]
  }
 ],
 "metadata": {
  "kernelspec": {
   "display_name": "Python 3",
   "language": "python",
   "name": "python3"
  },
  "language_info": {
   "codemirror_mode": {
    "name": "ipython",
    "version": 3
   },
   "file_extension": ".py",
   "mimetype": "text/x-python",
   "name": "python",
   "nbconvert_exporter": "python",
   "pygments_lexer": "ipython3",
   "version": "3.12.3"
  }
 },
 "nbformat": 4,
 "nbformat_minor": 2
}
